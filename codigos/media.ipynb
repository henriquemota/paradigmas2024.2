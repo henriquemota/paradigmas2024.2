{
 "cells": [
  {
   "cell_type": "code",
   "execution_count": 7,
   "metadata": {},
   "outputs": [],
   "source": [
    "def calcular_situacao(n1, n2):\n",
    " return 'Aprovado' if (n1 + n2) / 2 >= 7 else 'Reprovado'"
   ]
  },
  {
   "cell_type": "code",
   "execution_count": 8,
   "metadata": {},
   "outputs": [],
   "source": [
    "nome = input(\"informe seu nome: \")\n",
    "n1 = float(input(\"informe sua n1 \"))\n",
    "n2 = float(input(\"informe sua n2 \"))\n",
    "\n",
    "print(f\"ola {nome}, você foi {calcular_situacao(n1, n2)}\")"
   ]
  },
  {
   "cell_type": "code",
   "execution_count": 10,
   "metadata": {},
   "outputs": [
    {
     "name": "stdout",
     "output_type": "stream",
     "text": [
      "1\n",
      "2\n",
      "3\n",
      "4\n",
      "5\n"
     ]
    }
   ],
   "source": [
    "# define uma repeticao enquanto uma condicao nao for satisfeita\n",
    "i = 1\n",
    "while i < 6:\n",
    "  print(i)\n",
    "  i+=1"
   ]
  },
  {
   "cell_type": "code",
   "execution_count": 11,
   "metadata": {},
   "outputs": [
    {
     "name": "stdout",
     "output_type": "stream",
     "text": [
      "ola joao, você foi Aprovado\n",
      "ola maria, você foi Aprovado\n",
      "ola pedro, você foi Reprovado\n",
      "ola ana, você foi Aprovado\n"
     ]
    }
   ],
   "source": [
    "# calcula a media para o total de alunos\n",
    "total_alunos = int(input('informe o total de alunos: '))\n",
    "i = 0\n",
    "\n",
    "while i < total_alunos: \n",
    "  nome = input(\"informe seu nome: \")\n",
    "  n1 = float(input(\"informe sua n1 \"))\n",
    "  n2 = float(input(\"informe sua n2 \"))\n",
    "\n",
    "  print(f\"ola {nome}, você foi {calcular_situacao(n1, n2)}\")\n",
    "\n",
    "  i += 1"
   ]
  }
 ],
 "metadata": {
  "kernelspec": {
   "display_name": ".venv",
   "language": "python",
   "name": "python3"
  },
  "language_info": {
   "codemirror_mode": {
    "name": "ipython",
    "version": 3
   },
   "file_extension": ".py",
   "mimetype": "text/x-python",
   "name": "python",
   "nbconvert_exporter": "python",
   "pygments_lexer": "ipython3",
   "version": "3.9.6"
  }
 },
 "nbformat": 4,
 "nbformat_minor": 2
}
