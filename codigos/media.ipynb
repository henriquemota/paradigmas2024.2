{
 "cells": [
  {
   "cell_type": "code",
   "execution_count": 7,
   "metadata": {},
   "outputs": [],
   "source": [
    "def calcular_situacao(n1, n2):\n",
    " return 'Aprovado' if (n1 + n2) / 2 >= 7 else 'Reprovado'"
   ]
  },
  {
   "cell_type": "code",
   "execution_count": 8,
   "metadata": {},
   "outputs": [],
   "source": [
    "nome = input(\"informe seu nome: \")\n",
    "n1 = float(input(\"informe sua n1 \"))\n",
    "n2 = float(input(\"informe sua n2 \"))\n",
    "\n",
    "print(f\"ola {nome}, você foi {calcular_situacao(n1, n2)}\")"
   ]
  }
 ],
 "metadata": {
  "kernelspec": {
   "display_name": ".venv",
   "language": "python",
   "name": "python3"
  },
  "language_info": {
   "codemirror_mode": {
    "name": "ipython",
    "version": 3
   },
   "file_extension": ".py",
   "mimetype": "text/x-python",
   "name": "python",
   "nbconvert_exporter": "python",
   "pygments_lexer": "ipython3",
   "version": "3.9.6"
  }
 },
 "nbformat": 4,
 "nbformat_minor": 2
}
