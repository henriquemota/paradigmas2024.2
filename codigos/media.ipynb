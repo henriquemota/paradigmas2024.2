{
 "cells": [
  {
   "cell_type": "code",
   "execution_count": 17,
   "metadata": {},
   "outputs": [],
   "source": [
    "def calcular_situacao(n1, n2):\n",
    " return 'Aprovado' if (n1 + n2) / 2 >= 7 else 'Reprovado'"
   ]
  },
  {
   "cell_type": "code",
   "execution_count": 18,
   "metadata": {},
   "outputs": [],
   "source": [
    "def calcular_situacao_media(n1, n2):\n",
    " media = (n1 + n2) / 2\n",
    " return media, 'Aprovado' if (n1 + n2) / 2 >= 7 else 'Reprovado'"
   ]
  },
  {
   "cell_type": "code",
   "execution_count": 27,
   "metadata": {},
   "outputs": [
    {
     "name": "stdout",
     "output_type": "stream",
     "text": [
      "(5.5, 'Reprovado')\n",
      "5.5 Reprovado\n",
      "5.5 Reprovado\n"
     ]
    }
   ],
   "source": [
    "print(calcular_situacao_media(6, 5))\n",
    "a = calcular_situacao_media(6, 5)\n",
    "print(a[0], a[1])\n",
    "a, b = calcular_situacao_media(6, 5)\n",
    "print(a, b)"
   ]
  },
  {
   "cell_type": "code",
   "execution_count": 8,
   "metadata": {},
   "outputs": [],
   "source": [
    "nome = input(\"informe seu nome: \")\n",
    "n1 = float(input(\"informe sua n1 \"))\n",
    "n2 = float(input(\"informe sua n2 \"))\n",
    "\n",
    "print(f\"ola {nome}, você foi {calcular_situacao(n1, n2)}\")"
   ]
  },
  {
   "cell_type": "code",
   "execution_count": null,
   "metadata": {},
   "outputs": [],
   "source": [
    "# define uma repeticao enquanto uma condicao nao for satisfeita\n",
    "i = 1\n",
    "while i < 6:\n",
    "  print(i)\n",
    "  i+=1"
   ]
  },
  {
   "cell_type": "code",
   "execution_count": null,
   "metadata": {},
   "outputs": [],
   "source": [
    "# calcula a media para o total de alunos\n",
    "total_alunos = int(input('informe o total de alunos: '))\n",
    "i = 0\n",
    "\n",
    "while i < total_alunos: \n",
    "  nome = input(\"informe seu nome: \")\n",
    "  n1 = float(input(\"informe sua n1 \"))\n",
    "  n2 = float(input(\"informe sua n2 \"))\n",
    "\n",
    "  print(f\"ola {nome}, você foi {calcular_situacao(n1, n2)}\")\n",
    "\n",
    "  i += 1"
   ]
  },
  {
   "cell_type": "code",
   "execution_count": 28,
   "metadata": {},
   "outputs": [
    {
     "name": "stdout",
     "output_type": "stream",
     "text": [
      "ola joao, você foi Aprovado\n",
      "ola maria, você foi Reprovado\n",
      "ola pedro, você foi Reprovado\n",
      "ola ana, você foi Aprovado\n",
      "a media geral da turma foi 7.6625\n"
     ]
    }
   ],
   "source": [
    "# calcula a media geral da turma \n",
    "total_alunos = int(input('informe o total de alunos: '))\n",
    "media_geral = 0\n",
    "\n",
    "i = 0\n",
    "while i < total_alunos: \n",
    "  nome = input(\"informe seu nome: \")\n",
    "  n1 = float(input(\"informe sua n1 \"))\n",
    "  n2 = float(input(\"informe sua n2 \"))\n",
    "\n",
    "  media, situacao = calcular_situacao_media(n1, n2)\n",
    "  media_geral += media\n",
    "  print(f\"ola {nome}, você foi {situacao} com média {media}\")\n",
    "\n",
    "  i += 1\n",
    "\n",
    "print(f\"a media geral da turma foi {round(media_geral / total_alunos, 1)}\")"
   ]
  }
 ],
 "metadata": {
  "kernelspec": {
   "display_name": ".venv",
   "language": "python",
   "name": "python3"
  },
  "language_info": {
   "codemirror_mode": {
    "name": "ipython",
    "version": 3
   },
   "file_extension": ".py",
   "mimetype": "text/x-python",
   "name": "python",
   "nbconvert_exporter": "python",
   "pygments_lexer": "ipython3",
   "version": "3.9.6"
  }
 },
 "nbformat": 4,
 "nbformat_minor": 2
}
