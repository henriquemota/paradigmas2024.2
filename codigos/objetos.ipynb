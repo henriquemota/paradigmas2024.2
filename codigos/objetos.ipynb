{
 "cells": [
  {
   "cell_type": "code",
   "execution_count": 9,
   "metadata": {},
   "outputs": [],
   "source": [
    "class Cachorro (object):\n",
    "  def latir(self):\n",
    "    print(\"au au\")\n",
    "  \n",
    "  def correr(self):\n",
    "    print(\"corre forrest\")"
   ]
  },
  {
   "cell_type": "code",
   "execution_count": 11,
   "metadata": {},
   "outputs": [
    {
     "name": "stdout",
     "output_type": "stream",
     "text": [
      "au au\n",
      "corre forrest\n"
     ]
    }
   ],
   "source": [
    "x = Cachorro()\n",
    "x.latir()\n",
    "x.correr()"
   ]
  },
  {
   "cell_type": "code",
   "execution_count": 22,
   "metadata": {},
   "outputs": [],
   "source": [
    "class Carro(object):\n",
    "\n",
    "  velocidade = 0\n",
    "\n",
    "  def __init__(self) -> None:\n",
    "    pass\n",
    "  \n",
    "  def acelerar(self, velocidade):\n",
    "    self.velocidade += velocidade\n",
    "    print(f'a velocidade atual é {self.velocidade}')\n",
    "\n",
    "  def frear(self, velocidade):\n",
    "    self.velocidade -= velocidade\n",
    "    print(f'a velocidade atual é {self.velocidade}')\n",
    "\n",
    "class Motorista(object):\n",
    "\n",
    "  nome = ''\n",
    "\n",
    "  def __init__(self, nome) -> None:\n",
    "    self.nome = nome\n",
    "    print(f\"bem vindo {self.nome}\")\n",
    "\n",
    "  pass"
   ]
  },
  {
   "cell_type": "code",
   "execution_count": 23,
   "metadata": {},
   "outputs": [
    {
     "name": "stdout",
     "output_type": "stream",
     "text": [
      "bem vindo Henrique\n"
     ]
    }
   ],
   "source": [
    "m1 = Motorista(\"Henrique\")\n",
    "c1 = Carro()"
   ]
  },
  {
   "cell_type": "code",
   "execution_count": 33,
   "metadata": {},
   "outputs": [
    {
     "name": "stdout",
     "output_type": "stream",
     "text": [
      "a velocidade atual é -20\n"
     ]
    }
   ],
   "source": [
    "c1.frear(220)"
   ]
  },
  {
   "cell_type": "code",
   "execution_count": 74,
   "metadata": {},
   "outputs": [],
   "source": [
    "class Veiculo(object):\n",
    "\n",
    "  velocidade = 0\n",
    "\n",
    "  def __init__(self, velocidade) -> None:\n",
    "    self.velocidade = velocidade\n",
    "    print(f\"a velocidade atual e {self.velocidade}\")\n",
    "\n",
    "  def acelerar(self, valor):\n",
    "    self.velocidade += valor\n",
    "    print(f\"a velocidade atual e {self.velocidade}\")\n",
    "\n",
    "  def freiar(self, valor):\n",
    "    self.velocidade -= valor\n",
    "    print(f\"a velocidade atual e {self.velocidade}\")\n",
    "\n",
    "class Carro(Veiculo):\n",
    "  def __str__(self) -> str:\n",
    "    return \"Meu carro instanciado\"\n",
    "\n",
    "class Moto(Veiculo):\n",
    "  pass"
   ]
  },
  {
   "cell_type": "code",
   "execution_count": 75,
   "metadata": {},
   "outputs": [
    {
     "name": "stdout",
     "output_type": "stream",
     "text": [
      "a velocidade atual e 10\n",
      "a velocidade atual e 5\n"
     ]
    }
   ],
   "source": [
    "c1 = Carro(10)\n",
    "m1 = Moto(5)\n"
   ]
  },
  {
   "cell_type": "code",
   "execution_count": 69,
   "metadata": {},
   "outputs": [
    {
     "name": "stdout",
     "output_type": "stream",
     "text": [
      "a velocidade atual e 160\n",
      "a velocidade atual e 230\n"
     ]
    }
   ],
   "source": [
    "c1.acelerar(10)\n",
    "m1.acelerar(15)"
   ]
  },
  {
   "cell_type": "code",
   "execution_count": 76,
   "metadata": {},
   "outputs": [
    {
     "data": {
      "text/plain": [
       "'Meu carro instanciado'"
      ]
     },
     "execution_count": 76,
     "metadata": {},
     "output_type": "execute_result"
    }
   ],
   "source": [
    "c1.__str__()\n"
   ]
  }
 ],
 "metadata": {
  "kernelspec": {
   "display_name": ".venv",
   "language": "python",
   "name": "python3"
  },
  "language_info": {
   "codemirror_mode": {
    "name": "ipython",
    "version": 3
   },
   "file_extension": ".py",
   "mimetype": "text/x-python",
   "name": "python",
   "nbconvert_exporter": "python",
   "pygments_lexer": "ipython3",
   "version": "3.9.6"
  }
 },
 "nbformat": 4,
 "nbformat_minor": 2
}
