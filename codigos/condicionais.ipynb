{
 "cells": [
  {
   "cell_type": "code",
   "execution_count": 1,
   "metadata": {},
   "outputs": [],
   "source": [
    "a = 20\n",
    "b = 10"
   ]
  },
  {
   "cell_type": "code",
   "execution_count": 3,
   "metadata": {},
   "outputs": [
    {
     "name": "stdout",
     "output_type": "stream",
     "text": [
      "a é maior que b\n"
     ]
    }
   ],
   "source": [
    "if a > b:\n",
    "  print(\"a é maior que b\")"
   ]
  },
  {
   "cell_type": "code",
   "execution_count": 4,
   "metadata": {},
   "outputs": [
    {
     "name": "stdout",
     "output_type": "stream",
     "text": [
      "a é maior que b\n",
      "finalizado\n"
     ]
    }
   ],
   "source": [
    "if a > b: \n",
    "  print(\"a é maior que b\")\n",
    "print(\"finalizado\")"
   ]
  },
  {
   "cell_type": "code",
   "execution_count": 5,
   "metadata": {},
   "outputs": [
    {
     "name": "stdout",
     "output_type": "stream",
     "text": [
      "finalizado\n"
     ]
    }
   ],
   "source": [
    "if b > a: \n",
    "  print(\"a é maior que b\")\n",
    "print(\"finalizado\")"
   ]
  },
  {
   "cell_type": "code",
   "execution_count": 6,
   "metadata": {},
   "outputs": [
    {
     "name": "stdout",
     "output_type": "stream",
     "text": [
      "a é maior que b\n",
      "finalizado\n"
     ]
    }
   ],
   "source": [
    "if b > a: \n",
    "  print(\"b é maior que a\")\n",
    "elif a > b:\n",
    "  print(\"a é maior que b\")\n",
    "else:\n",
    "  print(\"a é igual a b\")\n",
    "print(\"finalizado\")"
   ]
  },
  {
   "cell_type": "code",
   "execution_count": 7,
   "metadata": {},
   "outputs": [
    {
     "name": "stdout",
     "output_type": "stream",
     "text": [
      "a é igual a b\n",
      "finalizado\n"
     ]
    }
   ],
   "source": [
    "a = 20\n",
    "b = 20\n",
    "\n",
    "if b > a: \n",
    "  print(\"b é maior que a\")\n",
    "elif a > b:\n",
    "  print(\"a é maior que b\")\n",
    "else:\n",
    "  print(\"a é igual a b\")\n",
    "print(\"finalizado\")"
   ]
  },
  {
   "cell_type": "code",
   "execution_count": 9,
   "metadata": {},
   "outputs": [
    {
     "name": "stdout",
     "output_type": "stream",
     "text": [
      "a é maior ou igual que b\n"
     ]
    }
   ],
   "source": [
    "## Operador ternário\n",
    "print(\"a é maior ou igual que b\") if a >= b else print (\"b é maior que a\")"
   ]
  },
  {
   "cell_type": "code",
   "execution_count": 10,
   "metadata": {},
   "outputs": [
    {
     "name": "stdout",
     "output_type": "stream",
     "text": [
      "a é maior ou igual que b\n"
     ]
    }
   ],
   "source": [
    "if a >= b : print(\"a é maior ou igual que b\") "
   ]
  }
 ],
 "metadata": {
  "kernelspec": {
   "display_name": ".venv",
   "language": "python",
   "name": "python3"
  },
  "language_info": {
   "codemirror_mode": {
    "name": "ipython",
    "version": 3
   },
   "file_extension": ".py",
   "mimetype": "text/x-python",
   "name": "python",
   "nbconvert_exporter": "python",
   "pygments_lexer": "ipython3",
   "version": "3.9.6"
  }
 },
 "nbformat": 4,
 "nbformat_minor": 2
}
