{
 "cells": [
  {
   "cell_type": "code",
   "execution_count": 3,
   "metadata": {},
   "outputs": [],
   "source": [
    "from os import path, getcwd"
   ]
  },
  {
   "cell_type": "code",
   "execution_count": 4,
   "metadata": {},
   "outputs": [],
   "source": [
    "arquivos_dir = path.join(getcwd(), '..', 'arquivos')"
   ]
  },
  {
   "cell_type": "markdown",
   "metadata": {},
   "source": [
    "Faça um programa que leia um arquivo texto contendo uma lista de endereços IP   \n",
    "e gere um outro arquivo, contendo um relatório dos endereços IP válidos e inválidos.\n"
   ]
  },
  {
   "cell_type": "code",
   "execution_count": 27,
   "metadata": {},
   "outputs": [
    {
     "name": "stdout",
     "output_type": "stream",
     "text": [
      "200.135.80.9 valido\n",
      "192.168.1.1 valido\n",
      "8.35.67.74 valido\n",
      "257.32.4.5 invalido\n",
      "85.345.1.2 invalido\n",
      "1.2.3.4 valido\n",
      "9.8.234.5 valido\n",
      "192.168.0.256 invalido\n"
     ]
    }
   ],
   "source": [
    "ips = path.join(arquivos_dir, 'ips.txt')\n",
    "\n",
    "def isValidIP(ip):\n",
    "  numeros = ip.strip().split('.')\n",
    "  for numero in numeros:\n",
    "    if int(numero) < 0 or int(numero) > 255: \n",
    "      return False\n",
    "  return True\n",
    "\n",
    "with open(ips) as f:\n",
    "  for linha in f:\n",
    "    print(f'{linha.strip()} valido') if isValidIP(linha) else print(f'{linha.strip()} invalido')      "
   ]
  },
  {
   "cell_type": "markdown",
   "metadata": {},
   "source": [
    "A ACME Inc., uma empresa de 500 funcionários, está tendo problemas de espaço  \n",
    "em disco no seu servidor de arquivos. Para tentar resolver este problema, o  \n",
    "Administrador de Rede precisa saber qual o espaço ocupado pelos usuários, e  \n",
    "identificar os usuários com maior espaço ocupado. Através de um programa, baixado  \n",
    "da Internet, ele conseguiu gerar o seguinte arquivo, chamado \"usuarios.txt\":"
   ]
  },
  {
   "cell_type": "code",
   "execution_count": 36,
   "metadata": {},
   "outputs": [
    {
     "name": "stdout",
     "output_type": "stream",
     "text": [
      "[{'nome': 'alexandre', 'espaco': 434.99}, {'nome': 'anderson', 'espaco': 1187.99}, {'nome': 'antonio', 'espaco': 117.74}, {'nome': 'carlos', 'espaco': 87.03}, {'nome': 'cesar', 'espaco': 0.94}, {'nome': 'rosemary', 'espaco': 752.88}]\n"
     ]
    }
   ],
   "source": [
    "usuarios = path.join(arquivos_dir, 'usuarios.txt')\n",
    "def byteToMB(byte):\n",
    "  return round(int(byte)/1024/1024,2)\n",
    "\n",
    "lista = []\n",
    "with open(usuarios) as f:  \n",
    "  for linha in f:\n",
    "    data = linha.strip().split(' ')\n",
    "    lista.append({\"nome\": data[0], \"espaco\": byteToMB(data[1])})\n",
    " \n",
    "print(lista)"
   ]
  },
  {
   "cell_type": "code",
   "execution_count": 37,
   "metadata": {},
   "outputs": [
    {
     "name": "stdout",
     "output_type": "stream",
     "text": [
      "2581.57\n"
     ]
    }
   ],
   "source": [
    "armazenamento_total = sum(item['espaco'] for item in lista)\n",
    "print(armazenamento_total)"
   ]
  },
  {
   "cell_type": "code",
   "execution_count": 38,
   "metadata": {},
   "outputs": [],
   "source": [
    "with open(path.join(arquivos_dir, \"relatorio.txt\"), 'w') as f:\n",
    "  f.write(\"ACME Inc. Uso do espaço em disco pelos usuários\\n\")\n",
    "  f.write(\"Nr. Usuário Espaço utilizado % do uso\\n\")\n",
    "  i = 0  \n",
    "  for item in lista:\n",
    "    i+=1\n",
    "    f.write(f\"{i} {item['nome']} {item['espaco']} {round((item['espaco'] / armazenamento_total) * 100, 2)}\\n\")\n"
   ]
  }
 ],
 "metadata": {
  "kernelspec": {
   "display_name": ".venv",
   "language": "python",
   "name": "python3"
  },
  "language_info": {
   "codemirror_mode": {
    "name": "ipython",
    "version": 3
   },
   "file_extension": ".py",
   "mimetype": "text/x-python",
   "name": "python",
   "nbconvert_exporter": "python",
   "pygments_lexer": "ipython3",
   "version": "3.9.6"
  }
 },
 "nbformat": 4,
 "nbformat_minor": 2
}
