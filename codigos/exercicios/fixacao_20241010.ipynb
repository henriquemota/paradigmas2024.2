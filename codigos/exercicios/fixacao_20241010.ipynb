{
 "cells": [
  {
   "cell_type": "code",
   "execution_count": 1,
   "metadata": {},
   "outputs": [],
   "source": [
    "from os import path, getcwd"
   ]
  },
  {
   "cell_type": "code",
   "execution_count": 4,
   "metadata": {},
   "outputs": [],
   "source": [
    "arquivos_dir = path.join(getcwd(), '..', 'arquivos')"
   ]
  },
  {
   "cell_type": "markdown",
   "metadata": {},
   "source": [
    "Faça um programa que leia um arquivo texto contendo uma lista de endereços IP   \n",
    "e gere um outro arquivo, contendo um relatório dos endereços IP válidos e inválidos.\n"
   ]
  },
  {
   "cell_type": "code",
   "execution_count": 27,
   "metadata": {},
   "outputs": [
    {
     "name": "stdout",
     "output_type": "stream",
     "text": [
      "200.135.80.9 valido\n",
      "192.168.1.1 valido\n",
      "8.35.67.74 valido\n",
      "257.32.4.5 invalido\n",
      "85.345.1.2 invalido\n",
      "1.2.3.4 valido\n",
      "9.8.234.5 valido\n",
      "192.168.0.256 invalido\n"
     ]
    }
   ],
   "source": [
    "ips = path.join(arquivos_dir, 'ips.txt')\n",
    "\n",
    "def isValidIP(ip):\n",
    "  numeros = ip.strip().split('.')\n",
    "  for numero in numeros:\n",
    "    if int(numero) < 0 or int(numero) > 255: \n",
    "      return False\n",
    "  return True\n",
    "\n",
    "with open(ips) as f:\n",
    "  for linha in f:\n",
    "    print(f'{linha.strip()} valido') if isValidIP(linha) else print(f'{linha.strip()} invalido')      "
   ]
  },
  {
   "cell_type": "markdown",
   "metadata": {},
   "source": [
    "A ACME Inc., uma empresa de 500 funcionários, está tendo problemas de espaço  \n",
    "em disco no seu servidor de arquivos. Para tentar resolver este problema, o  \n",
    "Administrador de Rede precisa saber qual o espaço ocupado pelos usuários, e  \n",
    "identificar os usuários com maior espaço ocupado. Através de um programa, baixado  \n",
    "da Internet, ele conseguiu gerar o seguinte arquivo, chamado \"usuarios.txt\":"
   ]
  },
  {
   "cell_type": "code",
   "execution_count": 21,
   "metadata": {},
   "outputs": [
    {
     "name": "stdout",
     "output_type": "stream",
     "text": [
      "alexandre 456123789\n",
      "anderson 1245698456\n",
      "antonio 123456456\n",
      "carlos 91257581\n",
      "cesar 987458\n",
      "rosemary 789456125\n"
     ]
    }
   ],
   "source": [
    "usuarios = path.join(arquivos_dir, 'usuarios.txt')\n",
    "\n",
    "with open(usuarios) as f:\n",
    "  for linha in f:\n",
    "    print(linha.strip())"
   ]
  }
 ],
 "metadata": {
  "kernelspec": {
   "display_name": ".venv",
   "language": "python",
   "name": "python3"
  },
  "language_info": {
   "codemirror_mode": {
    "name": "ipython",
    "version": 3
   },
   "file_extension": ".py",
   "mimetype": "text/x-python",
   "name": "python",
   "nbconvert_exporter": "python",
   "pygments_lexer": "ipython3",
   "version": "3.9.6"
  }
 },
 "nbformat": 4,
 "nbformat_minor": 2
}
