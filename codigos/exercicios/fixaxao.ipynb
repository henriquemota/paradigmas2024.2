{
 "cells": [
  {
   "cell_type": "markdown",
   "metadata": {},
   "source": [
    "1. Escreva uma função que recebe uma frase e uma palavra antiga e uma palavra nova. A função deve retornar uma string contendo a frase original, mas com a última ocorrência da palavra antiga substituída pela palavra nova. A entrada e saída de dados deve ser feita no programa principal."
   ]
  },
  {
   "cell_type": "code",
   "execution_count": 103,
   "metadata": {},
   "outputs": [],
   "source": [
    "def substituir():\n",
    "  frase = input(\"informe uma frase: \")\n",
    "  antiga = input(\"informe a palavra antiga: \")\n",
    "  nova = input(\"informe a palavra nova: \")\n",
    "  frase = nova.join(frase.rsplit(antiga, 1))\n",
    "\n",
    "  print(frase)"
   ]
  },
  {
   "cell_type": "code",
   "execution_count": 110,
   "metadata": {},
   "outputs": [
    {
     "name": "stdout",
     "output_type": "stream",
     "text": [
      "['java é uma linguagem muito legal, só que nao. mas eu prefiro ', '']\n",
      "java é uma linguagem muito legal, só que nao. mas eu prefiro python\n"
     ]
    }
   ],
   "source": [
    "texto = \"java é uma linguagem muito legal, só que nao. mas eu prefiro java\"\n",
    "lista = texto.rsplit(\"java\", 1)\n",
    "print(lista)\n",
    "print('python'.join(lista))"
   ]
  },
  {
   "cell_type": "markdown",
   "metadata": {},
   "source": [
    "2. Faça uma função que recebe uma frase e retorna o número de palavras que a frase contém. Considere que a palavra pode começar e/ou terminar por espaços. A entrada e saída de dados deve ser feita no programa principal."
   ]
  },
  {
   "cell_type": "code",
   "execution_count": 104,
   "metadata": {},
   "outputs": [],
   "source": [
    "def contar_palavras(frase):\n",
    "  frase = frase.strip() # remove os espacos em branco do inicio e do final da frase\n",
    "  lista = frase.split(' ') # quebra a string em uma lista de valores considerando o caractere \n",
    "  print(f\"a frase {frase} tem {len(lista)} palavras\")"
   ]
  },
  {
   "cell_type": "markdown",
   "metadata": {},
   "source": [
    "3. Faça uma função que recebe uma frase e substitui todas as ocorrências de espaço por “#”. Faça também uma função para realizar a entrada de dados. A saída de dados deve ser feita no programa principal."
   ]
  },
  {
   "cell_type": "code",
   "execution_count": 105,
   "metadata": {},
   "outputs": [],
   "source": [
    "def substituir_sharp(frase):\n",
    "  frase = frase.replace(\" \", '#') # substitui todas as ocorrencias da string pela nova string\n",
    "  print(frase)"
   ]
  },
  {
   "cell_type": "markdown",
   "metadata": {},
   "source": [
    "4. Faça um programa que decida se duas strings lidas do teclado são palíndromas mútuas, ou seja, se uma é igual à outra quando lida de traz para frente.\n",
    "Exemplo: amor e roma."
   ]
  },
  {
   "cell_type": "code",
   "execution_count": 106,
   "metadata": {},
   "outputs": [],
   "source": [
    "def palindromas_check(palavra1, palavra2):\n",
    "  return True  if palavra2 == palavra1[::-1] else False\n",
    "  # if palavra1 == palavra1[::-1] : \n",
    "  #   return True\n",
    "  # else: \n",
    "  #   return False\n"
   ]
  },
  {
   "cell_type": "markdown",
   "metadata": {},
   "source": [
    "5. Faça um programa que leia o nome do usuário e mostre o nome de traz para frente, utilizando somente letras maiúsculas.  \n",
    "Exemplo:  \n",
    "Nome = Vanessa  \n",
    "Resultado gerado pelo programa: ASSENAV  \n"
   ]
  },
  {
   "cell_type": "code",
   "execution_count": 107,
   "metadata": {},
   "outputs": [],
   "source": [
    "def reverso(nome):\n",
    "  print(nome[::-1].upper()) # realiza a reversao da string e altera para uppercase"
   ]
  },
  {
   "cell_type": "markdown",
   "metadata": {},
   "source": [
    "O código abaixo será executado apenas se for invocado diretamente  \n",
    "Se ele for importado como biblioteca, será ignorado"
   ]
  },
  {
   "cell_type": "code",
   "execution_count": 108,
   "metadata": {},
   "outputs": [
    {
     "name": "stdout",
     "output_type": "stream",
     "text": [
      "java é uma linguagem muito legal, so que nao, mas eu gosto e de python\n"
     ]
    }
   ],
   "source": [
    "if __name__ == \"__main__\":\n",
    "    # contar_palavras(\" minha frase tem quantas palavras? nao sei! \")\n",
    "    # substituir_sharp(\"minha frase tem quantas palavras? nao sei!\")\n",
    "    # print(\"sim, são iguais\") if palindromas_check(\"hora\", \"arog\") else print(\"não, não são iguais\")\n",
    "    # reverso(\"henrique mota\")  \n",
    "    substituir()"
   ]
  }
 ],
 "metadata": {
  "kernelspec": {
   "display_name": ".venv",
   "language": "python",
   "name": "python3"
  },
  "language_info": {
   "codemirror_mode": {
    "name": "ipython",
    "version": 3
   },
   "file_extension": ".py",
   "mimetype": "text/x-python",
   "name": "python",
   "nbconvert_exporter": "python",
   "pygments_lexer": "ipython3",
   "version": "3.9.6"
  }
 },
 "nbformat": 4,
 "nbformat_minor": 2
}
