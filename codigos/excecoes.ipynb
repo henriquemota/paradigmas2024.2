{
 "cells": [
  {
   "cell_type": "code",
   "execution_count": 1,
   "metadata": {},
   "outputs": [],
   "source": [
    "from os import path, getcwd\n"
   ]
  },
  {
   "cell_type": "code",
   "execution_count": 11,
   "metadata": {},
   "outputs": [],
   "source": [
    "def ler_arquivo(arquivo):\n",
    "  try:\n",
    "    with open(path.join(arquivo)) as f:\n",
    "      return f.readlines()\n",
    "  except FileNotFoundError:\n",
    "    print(\"Arquivo não localizado\")\n",
    "  except Exception:\n",
    "    print(\"Erros ocorreram\")\n"
   ]
  },
  {
   "cell_type": "code",
   "execution_count": 12,
   "metadata": {},
   "outputs": [
    {
     "name": "stdout",
     "output_type": "stream",
     "text": [
      "Arquivo não localizado\n"
     ]
    }
   ],
   "source": [
    "ler_arquivo('usuarios.txt')"
   ]
  }
 ],
 "metadata": {
  "kernelspec": {
   "display_name": ".venv",
   "language": "python",
   "name": "python3"
  },
  "language_info": {
   "codemirror_mode": {
    "name": "ipython",
    "version": 3
   },
   "file_extension": ".py",
   "mimetype": "text/x-python",
   "name": "python",
   "nbconvert_exporter": "python",
   "pygments_lexer": "ipython3",
   "version": "3.9.6"
  }
 },
 "nbformat": 4,
 "nbformat_minor": 2
}
