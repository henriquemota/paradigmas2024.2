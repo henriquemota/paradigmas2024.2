{
 "cells": [
  {
   "cell_type": "code",
   "execution_count": 11,
   "metadata": {},
   "outputs": [],
   "source": [
    "import pandas as pd"
   ]
  },
  {
   "cell_type": "code",
   "execution_count": 14,
   "metadata": {},
   "outputs": [
    {
     "name": "stdout",
     "output_type": "stream",
     "text": [
      "           Município  Código IBGE\n",
      "0            Abaiara      2300101\n",
      "1            Acarape      2300150\n",
      "2             Acaraú      2300200\n",
      "3           Acopiara      2300309\n",
      "4             Aiuaba      2300408\n",
      "..               ...          ...\n",
      "179      Uruburetama      2313807\n",
      "180           Uruoca      2313906\n",
      "181          Varjota      2313955\n",
      "182    Várzea Alegre      2314003\n",
      "183  Viçosa do Ceará      2314102\n",
      "\n",
      "[184 rows x 2 columns]\n"
     ]
    }
   ],
   "source": [
    "data = pd.read_html(\"https://pt.wikipedia.org/wiki/Lista_de_munic%C3%ADpios_do_Cear%C3%A1\")\n",
    "data[0][['Município', 'Código IBGE']].to_excel(\"municipios.xlsx\")"
   ]
  }
 ],
 "metadata": {
  "kernelspec": {
   "display_name": ".venv",
   "language": "python",
   "name": "python3"
  },
  "language_info": {
   "codemirror_mode": {
    "name": "ipython",
    "version": 3
   },
   "file_extension": ".py",
   "mimetype": "text/x-python",
   "name": "python",
   "nbconvert_exporter": "python",
   "pygments_lexer": "ipython3",
   "version": "3.9.6"
  }
 },
 "nbformat": 4,
 "nbformat_minor": 2
}
