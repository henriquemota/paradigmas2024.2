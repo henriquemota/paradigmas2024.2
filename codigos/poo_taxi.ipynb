{
 "cells": [
  {
   "cell_type": "code",
   "execution_count": 3,
   "metadata": {},
   "outputs": [],
   "source": [
    "class Taxi:\n",
    "  modelo = ''\n",
    "  cor = ''\n",
    "  numero_passageiros = 0\n",
    "\n",
    "  def __init__(self, modelo, cor, numero_passageiros) -> None:\n",
    "    self.modelo = modelo\n",
    "    self.cor = cor\n",
    "    self.numero_passageiros = numero_passageiros"
   ]
  },
  {
   "cell_type": "code",
   "execution_count": 4,
   "metadata": {},
   "outputs": [],
   "source": [
    "tx = Taxi(\"fiat\", \"vermelho\", 4)"
   ]
  },
  {
   "cell_type": "code",
   "execution_count": 5,
   "metadata": {},
   "outputs": [
    {
     "name": "stdout",
     "output_type": "stream",
     "text": [
      "<class '__main__.Taxi'>\n"
     ]
    }
   ],
   "source": [
    "print(type(tx))"
   ]
  },
  {
   "cell_type": "code",
   "execution_count": 12,
   "metadata": {},
   "outputs": [],
   "source": [
    "class Cliente(object):\n",
    "\n",
    "  nome = ''\n",
    "  endereco = ''\n",
    "\n",
    "  def __init__(self, nome, endereco) -> None:\n",
    "    self.nome = nome\n",
    "    self.endereco = endereco\n",
    "\n",
    "  def __str__(self) -> str:\n",
    "    return self.nome\n",
    "\n",
    "class ClientePessoaFisica(Cliente):\n",
    "\n",
    "  cpf = ''\n",
    "\n",
    "  def __init__(self, nome, endereco, cpf) -> None:\n",
    "    super().__init__(nome, endereco)\n",
    "    self.cpf = cpf\n",
    "\n",
    "class ClientePessoaJuridica(Cliente):\n",
    "  \n",
    "  cnpj = ''\n",
    "\n",
    "  def __init__(self, nome, endereco, cnpj) -> None:\n",
    "    super().__init__(nome, endereco)  \n",
    "    self.cnpj = cnpj\n"
   ]
  },
  {
   "cell_type": "code",
   "execution_count": 13,
   "metadata": {},
   "outputs": [],
   "source": [
    "cf = ClientePessoaFisica(nome=\"Henrique\", endereco=\"Rua x\", cpf=\"444\")\n",
    "cj = ClientePessoaFisica(nome=\"Exata\", endereco=\"Rua y\", cpf=\"222\")"
   ]
  },
  {
   "cell_type": "code",
   "execution_count": 16,
   "metadata": {},
   "outputs": [
    {
     "data": {
      "text/plain": [
       "'Exata'"
      ]
     },
     "execution_count": 16,
     "metadata": {},
     "output_type": "execute_result"
    }
   ],
   "source": [
    "cf.__str__()\n",
    "cj.__str__()"
   ]
  },
  {
   "cell_type": "code",
   "execution_count": 31,
   "metadata": {},
   "outputs": [],
   "source": [
    "class Ingles(object):\n",
    "\n",
    "  def cumprimentar(self):\n",
    "    print(\"Hi\")\n",
    "\n",
    "class Portugues(object):\n",
    "\n",
    "  def cumprimentar(self):\n",
    "    print(\"Olá\")\n",
    "\n",
    "class Biligue(Portugues, Ingles):\n",
    "  pass"
   ]
  },
  {
   "cell_type": "code",
   "execution_count": 32,
   "metadata": {},
   "outputs": [],
   "source": [
    "joao = Biligue()\n",
    "pedro = Ingles()\n",
    "maria = Portugues()"
   ]
  },
  {
   "cell_type": "code",
   "execution_count": 26,
   "metadata": {},
   "outputs": [
    {
     "name": "stdout",
     "output_type": "stream",
     "text": [
      "Hi\n"
     ]
    }
   ],
   "source": [
    "pedro.cumprimentar()"
   ]
  },
  {
   "cell_type": "code",
   "execution_count": 27,
   "metadata": {},
   "outputs": [
    {
     "name": "stdout",
     "output_type": "stream",
     "text": [
      "Olá\n"
     ]
    }
   ],
   "source": [
    "maria.cumprimentar()"
   ]
  },
  {
   "cell_type": "code",
   "execution_count": 33,
   "metadata": {},
   "outputs": [
    {
     "name": "stdout",
     "output_type": "stream",
     "text": [
      "Olá\n"
     ]
    }
   ],
   "source": [
    "joao.cumprimentar()"
   ]
  }
 ],
 "metadata": {
  "kernelspec": {
   "display_name": ".venv",
   "language": "python",
   "name": "python3"
  },
  "language_info": {
   "codemirror_mode": {
    "name": "ipython",
    "version": 3
   },
   "file_extension": ".py",
   "mimetype": "text/x-python",
   "name": "python",
   "nbconvert_exporter": "python",
   "pygments_lexer": "ipython3",
   "version": "3.9.6"
  }
 },
 "nbformat": 4,
 "nbformat_minor": 2
}
