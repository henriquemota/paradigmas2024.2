{
 "cells": [
  {
   "cell_type": "code",
   "execution_count": 25,
   "metadata": {},
   "outputs": [],
   "source": [
    "# cria a funcao falar sem escopo ainda definido\n",
    "def falar():\n",
    "  pass\n",
    "\n",
    "# cria a funcao falar agora com escopo e parametros\n",
    "def falar(nome):\n",
    "  print(f\"bem vindo {nome} a turma de paradigmas em python\")\n",
    "  pass"
   ]
  },
  {
   "cell_type": "code",
   "execution_count": 28,
   "metadata": {},
   "outputs": [
    {
     "name": "stdout",
     "output_type": "stream",
     "text": [
      "bem vindo joao a turma de paradigmas em python\n",
      "bem vindo henrique a turma de paradigmas em python\n"
     ]
    }
   ],
   "source": [
    "# chamada da funcao sem informar o nome do parametro\n",
    "falar(\"joao\")\n",
    "# chamada da funcao informando o nome do parametro\n",
    "falar(nome=\"henrique\")"
   ]
  },
  {
   "cell_type": "code",
   "execution_count": 29,
   "metadata": {},
   "outputs": [],
   "source": [
    "# definicao de uma funcao regressiva\n",
    "def regressiva(x):\n",
    "   print(x)\n",
    "   if (x > 0): regressiva(x - 1)"
   ]
  },
  {
   "cell_type": "code",
   "execution_count": 31,
   "metadata": {},
   "outputs": [
    {
     "name": "stdout",
     "output_type": "stream",
     "text": [
      "4\n",
      "3\n",
      "2\n",
      "1\n",
      "0\n"
     ]
    }
   ],
   "source": [
    "# chamada da funcao regressiva\n",
    "regressiva(4)"
   ]
  },
  {
   "cell_type": "code",
   "execution_count": 23,
   "metadata": {},
   "outputs": [
    {
     "name": "stdout",
     "output_type": "stream",
     "text": [
      "32.4\n"
     ]
    }
   ],
   "source": [
    "# # importacao do paco completo\n",
    "# import saude\n",
    "# print(saude.calcularIMC(98, 1.74))\n",
    "\n",
    "# desestruturando apenas as funcoes que quero usar\n",
    "from saude import calcularIMC\n",
    "print(calcularIMC(98, 1.74))"
   ]
  },
  {
   "cell_type": "code",
   "execution_count": 32,
   "metadata": {},
   "outputs": [],
   "source": [
    "# importacao das bibliotecas\n",
    "import pandas as pd"
   ]
  },
  {
   "cell_type": "code",
   "execution_count": 33,
   "metadata": {},
   "outputs": [],
   "source": [
    "# leitura de dados de uma pagina web\n",
    "df = pd.read_html('https://pt.wikipedia.org/wiki/Lista_de_munic%C3%ADpios_do_Cear%C3%A1')"
   ]
  },
  {
   "cell_type": "code",
   "execution_count": 34,
   "metadata": {},
   "outputs": [],
   "source": [
    "# exporta os dados para excel\n",
    "df[0].to_excel(\"municipios_ceara.xlsx\")"
   ]
  },
  {
   "cell_type": "code",
   "execution_count": 133,
   "metadata": {},
   "outputs": [
    {
     "name": "stdout",
     "output_type": "stream",
     "text": [
      "[1, 2, 3, 4, 5, 6, 7, 8, 9, 10]\n",
      "5\n",
      "[8, 6, 5, 10, 1, 7, 2, 9, 3, 4]\n",
      "7\n"
     ]
    }
   ],
   "source": [
    "from random import randrange, randint, choice, shuffle\n",
    "\n",
    "# print(randrange(100,200))\n",
    "# print(randrange(100,200, 2))\n",
    "# print(randint(0,100))\n",
    "\n",
    "lista = list(range(1, 11))\n",
    "print(lista)\n",
    "print(choice(lista))\n",
    "\n",
    "shuffle(lista)\n",
    "print(lista)\n",
    "print(choice(lista))\n"
   ]
  }
 ],
 "metadata": {
  "kernelspec": {
   "display_name": ".venv",
   "language": "python",
   "name": "python3"
  },
  "language_info": {
   "codemirror_mode": {
    "name": "ipython",
    "version": 3
   },
   "file_extension": ".py",
   "mimetype": "text/x-python",
   "name": "python",
   "nbconvert_exporter": "python",
   "pygments_lexer": "ipython3",
   "version": "3.9.6"
  }
 },
 "nbformat": 4,
 "nbformat_minor": 2
}
