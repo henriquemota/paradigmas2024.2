{
 "cells": [
  {
   "cell_type": "code",
   "execution_count": 3,
   "metadata": {},
   "outputs": [],
   "source": [
    "from os import path, getcwd"
   ]
  },
  {
   "cell_type": "code",
   "execution_count": 4,
   "metadata": {},
   "outputs": [
    {
     "name": "stdout",
     "output_type": "stream",
     "text": [
      "/Users/henriquemota/Workspace/estacio/paradigmas/codigos/arquivos\n"
     ]
    }
   ],
   "source": [
    "pasta = path.join(getcwd(), 'arquivos')\n",
    "print(pasta)"
   ]
  },
  {
   "cell_type": "code",
   "execution_count": 5,
   "metadata": {},
   "outputs": [
    {
     "name": "stdout",
     "output_type": "stream",
     "text": [
      "joao;8;9;6\n",
      "\n",
      "maria;6.5;9;10\n",
      "\n",
      "pedro;4.5;3;2\n",
      "\n",
      "andre;7.5;8.3;7\n"
     ]
    }
   ],
   "source": [
    "arquivo = open(path.join(pasta, \"alunos.txt\"), \"r\")\n",
    "dados = arquivo.readlines()\n",
    "\n",
    "for line in dados:\n",
    "  print(line)"
   ]
  }
 ],
 "metadata": {
  "kernelspec": {
   "display_name": ".venv",
   "language": "python",
   "name": "python3"
  },
  "language_info": {
   "codemirror_mode": {
    "name": "ipython",
    "version": 3
   },
   "file_extension": ".py",
   "mimetype": "text/x-python",
   "name": "python",
   "nbconvert_exporter": "python",
   "pygments_lexer": "ipython3",
   "version": "3.9.6"
  }
 },
 "nbformat": 4,
 "nbformat_minor": 2
}
