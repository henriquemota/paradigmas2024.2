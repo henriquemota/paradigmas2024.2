{
 "cells": [
  {
   "cell_type": "code",
   "execution_count": 3,
   "metadata": {},
   "outputs": [
    {
     "name": "stdout",
     "output_type": "stream",
     "text": [
      "henrique mota <class 'str'>\n"
     ]
    }
   ],
   "source": [
    "# Declara a string, verifica seu valor e o tipo de dados\n",
    "minha_string = \"henrique mota\"\n",
    "print(minha_string, type(minha_string))"
   ]
  },
  {
   "cell_type": "code",
   "execution_count": 1,
   "metadata": {},
   "outputs": [
    {
     "name": "stdout",
     "output_type": "stream",
     "text": [
      "<class 'int'>\n"
     ]
    }
   ],
   "source": [
    "x = 10\n",
    "print(type(x))"
   ]
  },
  {
   "cell_type": "code",
   "execution_count": 9,
   "metadata": {},
   "outputs": [
    {
     "name": "stdout",
     "output_type": "stream",
     "text": [
      "13 henr\n"
     ]
    }
   ],
   "source": [
    "# Imprime o valor da string e as 04 primeira posicoes dela - particionamento\n",
    "print(len(minha_string), minha_string[0:4])"
   ]
  },
  {
   "cell_type": "code",
   "execution_count": 10,
   "metadata": {},
   "outputs": [
    {
     "name": "stdout",
     "output_type": "stream",
     "text": [
      "henrique mota gosta da linguagem pyhton\n"
     ]
    }
   ],
   "source": [
    "# Realiza a concatenação de strings\n",
    "print(minha_string + \" gosta da linguagem pyhton\")"
   ]
  },
  {
   "cell_type": "code",
   "execution_count": 13,
   "metadata": {},
   "outputs": [
    {
     "name": "stdout",
     "output_type": "stream",
     "text": [
      "o resultado do seu exame foi 1\n"
     ]
    }
   ],
   "source": [
    "# Realiza a concatenação de strings com conversão de tipos de dados\n",
    "print(\"o resultado do seu exame foi \" + str(1))"
   ]
  },
  {
   "cell_type": "code",
   "execution_count": 14,
   "metadata": {},
   "outputs": [
    {
     "name": "stdout",
     "output_type": "stream",
     "text": [
      "o resultado do seu exame foi 1\n"
     ]
    }
   ],
   "source": [
    "# Realiza uma interpolação \n",
    "# (processamento de código python dentro de uma string)\n",
    "print(f\"o resultado do seu exame foi {str(1)}\")"
   ]
  },
  {
   "cell_type": "code",
   "execution_count": 16,
   "metadata": {},
   "outputs": [
    {
     "name": "stdout",
     "output_type": "stream",
     "text": [
      "A soma de 2 + 2 é 4\n"
     ]
    }
   ],
   "source": [
    "print(f\"A soma de 2 + 2 é {2+2}\")"
   ]
  }
 ],
 "metadata": {
  "kernelspec": {
   "display_name": ".venv",
   "language": "python",
   "name": "python3"
  },
  "language_info": {
   "codemirror_mode": {
    "name": "ipython",
    "version": 3
   },
   "file_extension": ".py",
   "mimetype": "text/x-python",
   "name": "python",
   "nbconvert_exporter": "python",
   "pygments_lexer": "ipython3",
   "version": "3.9.6"
  }
 },
 "nbformat": 4,
 "nbformat_minor": 2
}
