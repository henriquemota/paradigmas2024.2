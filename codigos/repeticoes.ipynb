{
 "cells": [
  {
   "cell_type": "code",
   "execution_count": 11,
   "metadata": {},
   "outputs": [],
   "source": [
    "# cria uma lista de zero a nove\n",
    "lista  = range(0, 10)"
   ]
  },
  {
   "cell_type": "code",
   "execution_count": null,
   "metadata": {},
   "outputs": [],
   "source": [
    "# percorre a lista e imprime o N elemento\n",
    "for e in lista:\n",
    "  print(e)"
   ]
  },
  {
   "cell_type": "code",
   "execution_count": 18,
   "metadata": {},
   "outputs": [],
   "source": [
    "# percorre cada elemento da frase como item de uma lista \n",
    "frase = \"python é uma linguagem bem interessante\""
   ]
  },
  {
   "cell_type": "code",
   "execution_count": null,
   "metadata": {},
   "outputs": [],
   "source": [
    "print(frase[0:10])"
   ]
  },
  {
   "cell_type": "code",
   "execution_count": null,
   "metadata": {},
   "outputs": [],
   "source": [
    "for letra in frase:\n",
    "  print(letra)"
   ]
  },
  {
   "cell_type": "code",
   "execution_count": null,
   "metadata": {},
   "outputs": [],
   "source": [
    "palavras = frase.split(\" \")\n",
    "for palavra in palavras:\n",
    "  print(palavra)"
   ]
  },
  {
   "cell_type": "code",
   "execution_count": null,
   "metadata": {},
   "outputs": [],
   "source": [
    "for i in range(2, 10, 2):\n",
    "  print(i)"
   ]
  },
  {
   "cell_type": "markdown",
   "metadata": {},
   "source": [
    "- listas => [] \n",
    "dados separados por virgulas, dados de qualquer tipo, permite dados repetidos   \n",
    "- tuplas => ()  \n",
    "dados separados por virgulas, dados de qualquer tipo, não permite dados repetidos \n",
    "- dicionarios => {}\n",
    "dados separados por virgulas, composição de \"chave\" : valor, dados de qualquer tipo, não permite dados repetidos "
   ]
  },
  {
   "cell_type": "code",
   "execution_count": null,
   "metadata": {},
   "outputs": [],
   "source": [
    "# percorre os itens de uma lista\n",
    "lista = [\"python\", \"java\", 123, {\"nome\": \"henrique\", \"idade\": 49}, [20,40,65]]\n",
    "for item in lista:\n",
    "  print(type(item))"
   ]
  },
  {
   "cell_type": "code",
   "execution_count": 57,
   "metadata": {},
   "outputs": [],
   "source": [
    "notas = [6,7,8,9,10,5,4,3,6,7]"
   ]
  },
  {
   "cell_type": "code",
   "execution_count": 58,
   "metadata": {},
   "outputs": [
    {
     "name": "stdout",
     "output_type": "stream",
     "text": [
      "a média da turma foi 7.0\n"
     ]
    }
   ],
   "source": [
    "# imperativo\n",
    "soma = 0\n",
    "\n",
    "for nota in notas:\n",
    "  soma += nota\n",
    "\n",
    "print(f\"a média da turma foi {(soma / len(notas)) + 0.50}\")"
   ]
  },
  {
   "cell_type": "code",
   "execution_count": 56,
   "metadata": {},
   "outputs": [
    {
     "name": "stdout",
     "output_type": "stream",
     "text": [
      "a média da turma foi 6.5\n"
     ]
    }
   ],
   "source": [
    "# dealcarativo\n",
    "from statistics import mean\n",
    "print(f\"a média da turma foi {mean(notas)}\")"
   ]
  }
 ],
 "metadata": {
  "kernelspec": {
   "display_name": ".venv",
   "language": "python",
   "name": "python3"
  },
  "language_info": {
   "codemirror_mode": {
    "name": "ipython",
    "version": 3
   },
   "file_extension": ".py",
   "mimetype": "text/x-python",
   "name": "python",
   "nbconvert_exporter": "python",
   "pygments_lexer": "ipython3",
   "version": "3.9.6"
  }
 },
 "nbformat": 4,
 "nbformat_minor": 2
}
