{
 "cells": [
  {
   "cell_type": "code",
   "execution_count": 11,
   "metadata": {},
   "outputs": [],
   "source": [
    "# cria uma lista de zero a nove\n",
    "lista  = range(0, 10)"
   ]
  },
  {
   "cell_type": "code",
   "execution_count": null,
   "metadata": {},
   "outputs": [],
   "source": [
    "# percorre a lista e imprime o N elemento\n",
    "for e in lista:\n",
    "  print(e)"
   ]
  },
  {
   "cell_type": "code",
   "execution_count": 18,
   "metadata": {},
   "outputs": [],
   "source": [
    "# percorre cada elemento da frase como item de uma lista \n",
    "frase = \"python é uma linguagem bem interessante\""
   ]
  },
  {
   "cell_type": "code",
   "execution_count": null,
   "metadata": {},
   "outputs": [],
   "source": [
    "print(frase[0:10])"
   ]
  },
  {
   "cell_type": "code",
   "execution_count": 34,
   "metadata": {},
   "outputs": [
    {
     "name": "stdout",
     "output_type": "stream",
     "text": [
      "p\n",
      "y\n",
      "t\n",
      "h\n",
      "o\n",
      "n\n",
      " \n",
      "é\n",
      " \n",
      "u\n",
      "m\n",
      "a\n",
      " \n",
      "l\n",
      "i\n",
      "n\n",
      "g\n",
      "u\n",
      "a\n",
      "g\n",
      "e\n",
      "m\n",
      " \n",
      "b\n",
      "e\n",
      "m\n",
      " \n",
      "i\n",
      "n\n",
      "t\n",
      "e\n",
      "r\n",
      "e\n",
      "s\n",
      "s\n",
      "a\n",
      "n\n",
      "t\n",
      "e\n"
     ]
    }
   ],
   "source": [
    "for letra in frase:\n",
    "  print(letra)"
   ]
  },
  {
   "cell_type": "code",
   "execution_count": 33,
   "metadata": {},
   "outputs": [
    {
     "name": "stdout",
     "output_type": "stream",
     "text": [
      "python\n",
      "é\n",
      "uma\n",
      "linguagem\n",
      "bem\n",
      "interessante\n"
     ]
    }
   ],
   "source": [
    "palavras = frase.split(\" \")\n",
    "for palavra in palavras:\n",
    "  print(palavra)"
   ]
  },
  {
   "cell_type": "markdown",
   "metadata": {},
   "source": [
    "- listas => [] \n",
    "dados separados por virgulas, dados de qualquer tipo, permite dados repetidos   \n",
    "- tuplas => ()  \n",
    "dados separados por virgulas, dados de qualquer tipo, não permite dados repetidos \n",
    "- dicionarios => {}\n",
    "dados separados por virgulas, composição de \"chave\" : valor, dados de qualquer tipo, não permite dados repetidos "
   ]
  },
  {
   "cell_type": "code",
   "execution_count": null,
   "metadata": {},
   "outputs": [],
   "source": [
    "# percorre os itens de uma lista\n",
    "lista = [\"python\", \"java\", 123, {\"nome\": \"henrique\", \"idade\": 49}, [20,40,65]]\n",
    "for item in lista:\n",
    "  print(type(item))"
   ]
  }
 ],
 "metadata": {
  "kernelspec": {
   "display_name": ".venv",
   "language": "python",
   "name": "python3"
  },
  "language_info": {
   "codemirror_mode": {
    "name": "ipython",
    "version": 3
   },
   "file_extension": ".py",
   "mimetype": "text/x-python",
   "name": "python",
   "nbconvert_exporter": "python",
   "pygments_lexer": "ipython3",
   "version": "3.9.6"
  }
 },
 "nbformat": 4,
 "nbformat_minor": 2
}
